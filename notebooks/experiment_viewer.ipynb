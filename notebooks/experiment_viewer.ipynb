{
 "cells": [
  {
   "cell_type": "code",
   "execution_count": 1,
   "id": "4b465790",
   "metadata": {},
   "outputs": [],
   "source": [
    "import os\n",
    "from os import path as osp\n",
    "\n",
    "import matplotlib.pyplot as plt\n",
    "import pandas as pd\n",
    "import yaml"
   ]
  },
  {
   "cell_type": "code",
   "execution_count": 2,
   "id": "9b41c96d",
   "metadata": {},
   "outputs": [],
   "source": [
    "repo_dir = '/Users/yairschiff/Development/TNP-pytorch/'"
   ]
  },
  {
   "cell_type": "code",
   "execution_count": 3,
   "id": "49532463",
   "metadata": {},
   "outputs": [],
   "source": [
    "exp_category = 'regression'\n",
    "exp = 'gp'\n",
    "results_dir = osp.join(repo_dir, exp_category, 'results', exp)\n",
    "models = ['anp', 'tnpd']"
   ]
  },
  {
   "cell_type": "code",
   "execution_count": 4,
   "id": "d88e2967",
   "metadata": {},
   "outputs": [],
   "source": [
    "# Read hyperparams and results\n",
    "args_file = 'args.yaml'\n",
    "eval_file = 'eval_all.log'\n",
    "exp_list = []\n",
    "for m in models:\n",
    "    for v in os.listdir(osp.join(results_dir, m)):\n",
    "        # Parse args yaml:\n",
    "        with open(osp.join(results_dir, m, v, args_file), 'r') as af:\n",
    "            try:\n",
    "                exp_dict = yaml.safe_load(af)\n",
    "            except yaml.YAMLError as exc:\n",
    "                print(exc)\n",
    "        # Parse eval\n",
    "        eval_dict = {}\n",
    "        try:\n",
    "            with open(osp.join(results_dir, m, v, eval_file), 'r') as ef:\n",
    "                for line in ef.readlines():\n",
    "                    line_split = line.split()\n",
    "                    eval_dict[line_split[1]] = line_split[line_split.index('tar_ll')+1]\n",
    "            exp_dict.update(eval_dict)\n",
    "        except FileNotFoundError as fe:\n",
    "            print(fe)\n",
    "            continue\n",
    "        exp_list.append(exp_dict)\n",
    "exp_df = pd.DataFrame(sorted(exp_list, key=lambda x: f'{x[\"model\"]}-{x[\"expid\"]}'))"
   ]
  },
  {
   "cell_type": "code",
   "execution_count": 6,
   "id": "5ce56f7e",
   "metadata": {},
   "outputs": [
    {
     "data": {
      "image/png": "[encoded data removed]",
      "text/plain": [
       "<Figure size 432x288 with 1 Axes>"
      ]
     },
     "metadata": {
      "needs_background": "light"
     },
     "output_type": "display_data"
    }
   ],
   "source": [
    "filt = 'exp_df[\\'max_num_points\\'] == 100'\n",
    "fig, ax = plt.subplots()\n",
    "colors = ['r', 'b', 'g', 'orange']\n",
    "for i, (label, model) in enumerate(exp_df.loc[eval(filt)].groupby('model')):\n",
    "#     display(model.head())\n",
    "    model.plot(ax=ax, kind='scatter', x='min_num_ctx', y='rbf', label=label, color=colors[i])\n",
    "# plt.plot(exp_df.loc[eval(filt)]['min_num_ctx'], exp_df.loc[eval(filt)]['rbf'], marker='o')\n",
    "plt.xlabel('Min num. context points')\n",
    "plt.ylabel('Target LL')\n",
    "plt.title('Target Log-likelihood vs. Num. context pts\\n(Max points == 100)')\n",
    "plt.legend(loc='best')\n",
    "plt.show()"
   ]
  },
  {
   "cell_type": "code",
   "execution_count": null,
   "id": "e5662a16",
   "metadata": {},
   "outputs": [],
   "source": []
  }
 ],
 "metadata": {
  "kernelspec": {
   "display_name": "Python 3 (ipykernel)",
   "language": "python",
   "name": "python3"
  },
  "language_info": {
   "codemirror_mode": {
    "name": "ipython",
    "version": 3
   },
   "file_extension": ".py",
   "mimetype": "text/x-python",
   "name": "python",
   "nbconvert_exporter": "python",
   "pygments_lexer": "ipython3",
   "version": "3.8.13"
  }
 },
 "nbformat": 4,
 "nbformat_minor": 5
}
